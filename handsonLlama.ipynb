{
 "cells": [
  {
   "cell_type": "code",
   "execution_count": 1,
   "id": "257cb17c",
   "metadata": {},
   "outputs": [],
   "source": [
    "import os\n",
    "from dotenv import load_dotenv\n",
    "load_dotenv()\n",
    "os.environ[\"OPENAI_API_KEY\"] = os.getenv(\"OPENAI_API_KEY\")\n",
    "import openai\n",
    "openai.api_key = os.getenv(\"OPENAI_API_KEY\")"
   ]
  },
  {
   "cell_type": "code",
   "execution_count": 23,
   "id": "e8dba3b1",
   "metadata": {},
   "outputs": [],
   "source": [
    "import tiktoken\n",
    "from llama_index.core import Settings\n",
    "from llama_index.core.callbacks import CallbackManager, TokenCountingHandler\n",
    "\n",
    "token_counter = TokenCountingHandler(tokenizer = tiktoken.encoding_for_model(\"text-embedding-ada-002\").encode, verbose= True)\n",
    "callback_manager = CallbackManager([token_counter])\n",
    "Settings.callback_manager = callback_manager "
   ]
  },
  {
   "cell_type": "code",
   "execution_count": 24,
   "id": "4273cf93",
   "metadata": {},
   "outputs": [
    {
     "name": "stderr",
     "output_type": "stream",
     "text": [
      "Parsing nodes:   0%|          | 0/6 [00:00<?, ?it/s]"
     ]
    },
    {
     "name": "stderr",
     "output_type": "stream",
     "text": [
      "Parsing nodes: 100%|██████████| 6/6 [00:01<00:00,  5.96it/s]\n",
      "Generating embeddings:   0%|          | 0/176 [00:00<?, ?it/s]2025-10-05 12:09:17,700 - INFO - HTTP Request: POST https://api.openai.com/v1/embeddings \"HTTP/1.1 200 OK\"\n"
     ]
    },
    {
     "name": "stdout",
     "output_type": "stream",
     "text": [
      "Embedding Token Usage: 95311\n"
     ]
    },
    {
     "name": "stderr",
     "output_type": "stream",
     "text": [
      "Generating embeddings:  57%|█████▋    | 100/176 [00:02<00:02, 35.59it/s]2025-10-05 12:09:20,187 - INFO - HTTP Request: POST https://api.openai.com/v1/embeddings \"HTTP/1.1 200 OK\"\n"
     ]
    },
    {
     "name": "stdout",
     "output_type": "stream",
     "text": [
      "Embedding Token Usage: 72462\n"
     ]
    },
    {
     "name": "stderr",
     "output_type": "stream",
     "text": [
      "Generating embeddings: 100%|██████████| 176/176 [00:05<00:00, 33.32it/s]\n"
     ]
    },
    {
     "name": "stdout",
     "output_type": "stream",
     "text": [
      "persisting to disk\n",
      "167773\n"
     ]
    }
   ],
   "source": [
    "from llama_index.core import VectorStoreIndex, SimpleDirectoryReader\n",
    "\n",
    "documents = SimpleDirectoryReader('assets/sleep').load_data()\n",
    "index = VectorStoreIndex.from_documents(documents, show_progress=True)\n",
    "index.storage_context.persist(persist_dir='./storage/cache/sleep')\n",
    "print('persisting to disk')\n",
    "\n",
    "print(token_counter.total_embedding_token_count)"
   ]
  },
  {
   "cell_type": "code",
   "execution_count": 36,
   "id": "226377ff",
   "metadata": {},
   "outputs": [],
   "source": [
    "from llama_index.core.prompts import PromptTemplate\n",
    "\n",
    "text_qa_template_str = (\n",
    "    \"Context information is below.\\n\"\n",
    "    \"---------------------\\n\"\n",
    "    \"{context_str}\\n\"\n",
    "    \"---------------------\\n\"\n",
    "    \"Using both the context information and also using your own knowledge, \"\n",
    "    \"answer the question: {query_str}\\n\"\n",
    "    \"If the context isn't helpful, you can also answer the question on your own.\\n\"\n",
    ")\n",
    "\n",
    "text_qa_template = PromptTemplate(text_qa_template_str)"
   ]
  },
  {
   "cell_type": "code",
   "execution_count": 31,
   "id": "9267a25d",
   "metadata": {},
   "outputs": [
    {
     "name": "stderr",
     "output_type": "stream",
     "text": [
      "2025-10-05 12:17:25,980 - INFO - HTTP Request: POST https://api.openai.com/v1/embeddings \"HTTP/1.1 200 OK\"\n"
     ]
    },
    {
     "name": "stdout",
     "output_type": "stream",
     "text": [
      "Embedding Token Usage: 7\n"
     ]
    },
    {
     "name": "stderr",
     "output_type": "stream",
     "text": [
      "2025-10-05 12:17:27,674 - INFO - HTTP Request: POST https://api.openai.com/v1/chat/completions \"HTTP/1.1 200 OK\"\n"
     ]
    },
    {
     "name": "stdout",
     "output_type": "stream",
     "text": [
      "LLM Prompt Token Usage: 2018\n",
      "LLM Completion Token Usage: 131\n",
      "Sleep enhances learning and memory by playing a crucial role in the consolidation of information acquired during wakefulness. Slow wave sleep, which occurs primarily in the early part of the night, is important for motor learning and the acquisition of detailed information. During slow wave sleep, the brain undergoes processes that strengthen neural connections related to the learned information, leading to improved retention and recall. Additionally, REM sleep, which occurs throughout the night with a higher percentage towards morning, is associated with emotional processing and memory consolidation. Overall, both slow wave sleep and REM sleep contribute to the enhancement of learning and memory by facilitating the storage and organization of newly acquired information in the brain.\n"
     ]
    }
   ],
   "source": [
    "response = index.as_query_engine(\n",
    "    text_qa_template = text_qa_template \n",
    ").query(\"How does sleep enhance learning memory?\")\n",
    "print(response)"
   ]
  },
  {
   "cell_type": "code",
   "execution_count": 32,
   "id": "f1c38beb",
   "metadata": {},
   "outputs": [],
   "source": [
    "query_engine = index.as_query_engine()"
   ]
  },
  {
   "cell_type": "code",
   "execution_count": 33,
   "id": "09b5b38f",
   "metadata": {},
   "outputs": [
    {
     "name": "stderr",
     "output_type": "stream",
     "text": [
      "2025-10-05 12:17:28,017 - INFO - HTTP Request: POST https://api.openai.com/v1/embeddings \"HTTP/1.1 200 OK\"\n"
     ]
    },
    {
     "name": "stdout",
     "output_type": "stream",
     "text": [
      "Embedding Token Usage: 9\n"
     ]
    },
    {
     "name": "stderr",
     "output_type": "stream",
     "text": [
      "2025-10-05 12:17:29,237 - INFO - HTTP Request: POST https://api.openai.com/v1/chat/completions \"HTTP/1.1 200 OK\"\n"
     ]
    },
    {
     "name": "stdout",
     "output_type": "stream",
     "text": [
      "LLM Prompt Token Usage: 2071\n",
      "LLM Completion Token Usage: 102\n",
      "Final Response: To get better sleep, you can try going to bed and\n",
      "waking up at the same time every day to establish a regular sleep\n",
      "schedule. Avoid consuming a lot of fluids right before bedtime to\n",
      "prevent disruptions due to needing to use the bathroom during the\n",
      "night. Engaging in resistance exercise can help increase slow wave\n",
      "sleep, which is beneficial for overall sleep quality. Additionally, be\n",
      "mindful of your caffeine intake throughout the day and consider\n",
      "avoiding naps, especially in the late afternoon or evening, to ensure\n",
      "better sleep at night.\n",
      "______________________________________________________________________\n",
      "Source Node 1/2\n",
      "Node ID: df51e61d-780e-4cec-8221-cceb630f463c\n",
      "Similarity: 0.844787653556624\n",
      "Text: For every hour variation in sleep regardless of whether or not\n",
      "it was more sleep than one typically got, there was a 17% reduction in\n",
      "performance on this particular exam type. So this is powerful. This\n",
      "means that we should strive for a regular amount of sleep. And for\n",
      "some of us that means falling asleep and waking up and going back to\n",
      "sleep. Fo...\n",
      "______________________________________________________________________\n",
      "Source Node 2/2\n",
      "Node ID: 828c3ad5-9727-4045-82ca-910469603d18\n",
      "Similarity: 0.8439484299717895\n",
      "Text: You can start to do things that really make it such that you\n",
      "naturally wake up at six in the morning or five in the morning. That's\n",
      "right, if you're somebody who naturally is a night owl, who likes to\n",
      "stay up until two in the morning and sleep until 10:00 a.m., and you\n",
      "now have a job or you have to go to school or you have a partner that\n",
      "likes t...\n",
      "To get better sleep, you can try going to bed and waking up at the same time every day to establish a regular sleep schedule. Avoid consuming a lot of fluids right before bedtime to prevent disruptions due to needing to use the bathroom during the night. Engaging in resistance exercise can help increase slow wave sleep, which is beneficial for overall sleep quality. Additionally, be mindful of your caffeine intake throughout the day and consider avoiding naps, especially in the late afternoon or evening, to ensure better sleep at night.\n"
     ]
    }
   ],
   "source": [
    "from llama_index.core.response.pprint_utils import pprint_response\n",
    "response = query_engine.query(\"what can i do to get better sleep?\")\n",
    "pprint_response(response, show_source=True)\n",
    "print(response)"
   ]
  },
  {
   "cell_type": "code",
   "execution_count": 34,
   "id": "d39ce5f4",
   "metadata": {},
   "outputs": [],
   "source": [
    "from llama_index.core.retrievers import VectorIndexRetriever\n",
    "from llama_index.core.query_engine import RetrieverQueryEngine\n",
    "\n",
    "retriever = VectorIndexRetriever(index = index, similarity_top_k = 4)\n",
    "query_engine = RetrieverQueryEngine(\n",
    "    retriever = retriever\n",
    ")"
   ]
  },
  {
   "cell_type": "code",
   "execution_count": 35,
   "id": "7aed5254",
   "metadata": {},
   "outputs": [
    {
     "name": "stderr",
     "output_type": "stream",
     "text": [
      "2025-10-05 12:17:30,048 - INFO - HTTP Request: POST https://api.openai.com/v1/embeddings \"HTTP/1.1 200 OK\"\n"
     ]
    },
    {
     "name": "stdout",
     "output_type": "stream",
     "text": [
      "Embedding Token Usage: 9\n"
     ]
    },
    {
     "name": "stderr",
     "output_type": "stream",
     "text": [
      "2025-10-05 12:17:32,122 - INFO - HTTP Request: POST https://api.openai.com/v1/chat/completions \"HTTP/1.1 200 OK\"\n"
     ]
    },
    {
     "name": "stdout",
     "output_type": "stream",
     "text": [
      "LLM Prompt Token Usage: 4036\n",
      "LLM Completion Token Usage: 127\n",
      "Final Response: To get better sleep, you can focus on optimizing your\n",
      "sleep environment and routine. Utilize tools such as maintaining a\n",
      "consistent sleep schedule, ensuring your bedroom is cool and dark,\n",
      "avoiding consuming caffeine too late in the day, limiting naps,\n",
      "engaging in relaxation techniques like NSDR or Reveri sleep hypnosis,\n",
      "and considering tools like eye masks and earplugs. Additionally, you\n",
      "can explore methods to regulate your body temperature, such as cooling\n",
      "or heating your mattress at different times during the night. Regular\n",
      "exposure to natural light during the day and minimizing exposure to\n",
      "artificial light at night can also help regulate your circadian rhythm\n",
      "for better sleep.\n",
      "______________________________________________________________________\n",
      "Source Node 1/4\n",
      "Node ID: df51e61d-780e-4cec-8221-cceb630f463c\n",
      "Similarity: 0.8448167765724572\n",
      "Text: For every hour variation in sleep regardless of whether or not\n",
      "it was more sleep than one typically got, there was a 17% reduction in\n",
      "performance on this particular exam type. So this is powerful. This\n",
      "means that we should strive for a regular amount of sleep. And for\n",
      "some of us that means falling asleep and waking up and going back to\n",
      "sleep. Fo...\n",
      "______________________________________________________________________\n",
      "Source Node 2/4\n",
      "Node ID: 828c3ad5-9727-4045-82ca-910469603d18\n",
      "Similarity: 0.8436162449166492\n",
      "Text: You can start to do things that really make it such that you\n",
      "naturally wake up at six in the morning or five in the morning. That's\n",
      "right, if you're somebody who naturally is a night owl, who likes to\n",
      "stay up until two in the morning and sleep until 10:00 a.m., and you\n",
      "now have a job or you have to go to school or you have a partner that\n",
      "likes t...\n",
      "______________________________________________________________________\n",
      "Source Node 3/4\n",
      "Node ID: 71df353b-056f-404e-9657-4fb40d766e0f\n",
      "Similarity: 0.8416796380881245\n",
      "Text: So we'll provide links to our so-called sleep kit, which is part\n",
      "of our Neural Network Newsletter. It's a zero-cost newsletter where\n",
      "you can access this information about supplements and other behavioral\n",
      "tools for sleep in list form. But that sleep kit doesn't include some\n",
      "of the newer information that I've provided this episode, in\n",
      "particular, ...\n",
      "______________________________________________________________________\n",
      "Source Node 4/4\n",
      "Node ID: 64bef44a-dd5f-4eb9-8983-e8ddf2d189f0\n",
      "Similarity: 0.8412495159001135\n",
      "Text: And I already thought I was sleeping pretty well. The way it\n",
      "works is that you can cool or heat your mattress according to\n",
      "different times throughout the night. So for instance, you can cool\n",
      "your mattress if you tend to run warm and that will help you fall and\n",
      "stay deeply asleep and then toward morning, you can have the mattress\n",
      "programmed or, I...\n",
      "To get better sleep, you can focus on optimizing your sleep environment and routine. Utilize tools such as maintaining a consistent sleep schedule, ensuring your bedroom is cool and dark, avoiding consuming caffeine too late in the day, limiting naps, engaging in relaxation techniques like NSDR or Reveri sleep hypnosis, and considering tools like eye masks and earplugs. Additionally, you can explore methods to regulate your body temperature, such as cooling or heating your mattress at different times during the night. Regular exposure to natural light during the day and minimizing exposure to artificial light at night can also help regulate your circadian rhythm for better sleep.\n"
     ]
    }
   ],
   "source": [
    "from llama_index.core.response.pprint_utils import pprint_response\n",
    "response = query_engine.query(\"what can i do to get better sleep?\")\n",
    "pprint_response(response, show_source=True)\n",
    "print(response)"
   ]
  }
 ],
 "metadata": {
  "kernelspec": {
   "display_name": "env",
   "language": "python",
   "name": "python3"
  },
  "language_info": {
   "codemirror_mode": {
    "name": "ipython",
    "version": 3
   },
   "file_extension": ".py",
   "mimetype": "text/x-python",
   "name": "python",
   "nbconvert_exporter": "python",
   "pygments_lexer": "ipython3",
   "version": "3.13.5"
  }
 },
 "nbformat": 4,
 "nbformat_minor": 5
}
