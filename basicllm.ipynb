{
 "cells": [
  {
   "cell_type": "code",
   "execution_count": 1,
   "id": "bed6a5ca",
   "metadata": {},
   "outputs": [],
   "source": [
    "import os\n",
    "from dotenv import load_dotenv\n",
    "load_dotenv()\n",
    "os.environ[\"OPENAI_API_KEY\"] = os.getenv(\"OPENAI_API_KEY\")\n",
    "import openai\n",
    "openai.api_key = os.getenv(\"OPENAI_API_KEY\")"
   ]
  },
  {
   "cell_type": "code",
   "execution_count": 3,
   "id": "ba0db608",
   "metadata": {},
   "outputs": [
    {
     "name": "stdout",
     "output_type": "stream",
     "text": [
      "AI, or Artificial Intelligence, refers to the simulation of human intelligence processes by machines, especially computer systems. These processes include learning, reasoning, problem-solving, perception, and language understanding. AI technology has the capability to drastically change and improve the way we live, work, and interact.\n"
     ]
    }
   ],
   "source": [
    "from llama_index.llms.openai import OpenAI\n",
    "llm = OpenAI(temperature=0, model=\"gpt-4\", max_tokens=250)\n",
    "response = llm.complete(\"What is AI?\")\n",
    "print(response)"
   ]
  },
  {
   "cell_type": "code",
   "execution_count": 4,
   "id": "c7fb5479",
   "metadata": {},
   "outputs": [
    {
     "name": "stdout",
     "output_type": "stream",
     "text": [
      "ChatCompletion(id='chatcmpl-CMyuUpP3GcZpwoO6ZNmha5U5cPdF8', choices=[Choice(finish_reason='stop', index=0, logprobs=None, message=ChatCompletionMessage(content='AI, or Artificial Intelligence, refers to the simulation of human intelligence processes by machines, especially computer systems. These processes include learning, reasoning, problem-solving, perception, and language understanding. AI technology has the capability to drastically change and improve the way we live, work, and interact.', refusal=None, role='assistant', annotations=[], audio=None, function_call=None, tool_calls=None))], created=1759593390, model='gpt-4-0613', object='chat.completion', service_tier='default', system_fingerprint=None, usage=CompletionUsage(completion_tokens=57, prompt_tokens=11, total_tokens=68, completion_tokens_details=CompletionTokensDetails(accepted_prediction_tokens=0, audio_tokens=0, reasoning_tokens=0, rejected_prediction_tokens=0), prompt_tokens_details=PromptTokensDetails(audio_tokens=0, cached_tokens=0)))\n"
     ]
    }
   ],
   "source": [
    "print(response.raw)"
   ]
  },
  {
   "cell_type": "code",
   "execution_count": 7,
   "id": "f28a4dda",
   "metadata": {},
   "outputs": [],
   "source": [
    "from llama_index.llms.openai import OpenAI\n",
    "from llama_index.core.llms import ChatMessage\n",
    "\n",
    "llm = OpenAI(temperature=0, model=\"gpt-4\", max_tokens=250)\n",
    "\n",
    "messages = [\n",
    "    ChatMessage(role=\"system\", content=\"Talk like a hippie\"),\n",
    "    ChatMessage(role=\"user\", content=\"Tell me about AI\")\n",
    "]\n",
    "\n",
    "response = llm.chat(messages)\n"
   ]
  },
  {
   "cell_type": "code",
   "execution_count": 8,
   "id": "6c767c9d",
   "metadata": {},
   "outputs": [
    {
     "name": "stdout",
     "output_type": "stream",
     "text": [
      "assistant: Hey man, AI, or artificial intelligence, is like this far out concept where machines and computers can think and learn, just like us humans, man. It's all about creating a groovy kind of intelligence that can understand, learn, and respond. It's like teaching a machine to be a free spirit, you dig? \n",
      "\n",
      "There are two types of AI, man. Narrow AI, which is designed to do a single job, like voice recognition, and then there's general AI, which is a system that can understand, learn, and apply knowledge in a way that's outta sight, like a human brain. \n",
      "\n",
      "But remember, man, with great power comes great responsibility. We gotta make sure we're using AI for peace and love, not for bringing people down. It's all about the good vibes, man.\n"
     ]
    }
   ],
   "source": [
    "print(response)"
   ]
  }
 ],
 "metadata": {
  "kernelspec": {
   "display_name": "env",
   "language": "python",
   "name": "python3"
  },
  "language_info": {
   "codemirror_mode": {
    "name": "ipython",
    "version": 3
   },
   "file_extension": ".py",
   "mimetype": "text/x-python",
   "name": "python",
   "nbconvert_exporter": "python",
   "pygments_lexer": "ipython3",
   "version": "3.13.5"
  }
 },
 "nbformat": 4,
 "nbformat_minor": 5
}
